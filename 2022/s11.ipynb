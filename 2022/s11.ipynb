{
 "cells": [
  {
   "cell_type": "code",
   "execution_count": 1,
   "metadata": {},
   "outputs": [
    {
     "data": {
      "text/plain": [
       "Monkey 0: [65, 78]\n",
       "Monkey 1: [54, 78, 86, 79, 73, 64, 85, 88]\n",
       "Monkey 2: [69, 97, 77, 88, 87]\n",
       "Monkey 3: [99]\n",
       "Monkey 4: [60, 57, 52]\n",
       "Monkey 5: [91, 82, 85, 73, 84, 53]\n",
       "Monkey 6: [88, 74, 68, 56]\n",
       "Monkey 7: [54, 82, 72, 71, 53, 99, 67]"
      ]
     },
     "execution_count": 1,
     "metadata": {},
     "output_type": "execute_result"
    }
   ],
   "source": [
    "class Monkey:\n",
    "    def __init__(self, items, operation, divider, next_monkey):\n",
    "        self.items = items\n",
    "        self.operation = operation\n",
    "        self.divider = divider\n",
    "        self.next_monkey = next_monkey\n",
    "        self.activitiy = 0\n",
    "        \n",
    "    def inspect_items(self):\n",
    "        self.activitiy += len(self.items)\n",
    "        for idx in range(len(self.items)):\n",
    "            exec(self.operation.replace(\"idx\", str(idx)))\n",
    "            \n",
    "    def get_destination(self, item):\n",
    "        return str(self.next_monkey[not int(item) % self.divider])\n",
    "        \n",
    "        \n",
    "class Hord(dict):\n",
    "    def __init__(self, filename=\"d11.txt\"):\n",
    "        with open(filename, \"r\") as f:\n",
    "            s = f.read() \n",
    "            for block in s.split(\"\\n\\n\"):\n",
    "                lines = block.split(\"\\n\")\n",
    "                no = lines[0].replace(\"Monkey\", \"\").strip(\": \")\n",
    "                items = [int(item) for item in lines[1].replace(\"Starting items:\", \"\").split(\",\")]\n",
    "                operation = lines[2].replace(\"Operation:\", \"\").strip().replace(\"=\", \"= (\") + \") //3\"\n",
    "                operation = operation.replace(\"old\", \"new\").replace(\"new\", \"self.items[idx]\")\n",
    "                divider = int(lines[3].split(\" \")[-1])\n",
    "                next_monkey = {True: int(lines[4].split(\" \")[-1]),\n",
    "                         False: int(lines[5].split(\" \")[-1])}\n",
    "                self[no] = Monkey(items, operation, divider, next_monkey)\n",
    "            \n",
    "    def __repr__(self):\n",
    "        s = \"\"\n",
    "        for no, monkey in self.items():\n",
    "            s += f\"Monkey {no}: {monkey.items}\\n\"\n",
    "        return s\n",
    "                \n",
    "    def do_round(self):\n",
    "        for no, monkey in self.items():\n",
    "            s = f\"Within no={no}, before={len(monkey.items)}, destination: \"\n",
    "            monkey.inspect_items()\n",
    "            for item in monkey.items:\n",
    "                destination = monkey.get_destination(item)\n",
    "                s += f\"{destination} \"\n",
    "                self[destination].items.append(item)\n",
    "            monkey.items = list()\n",
    "            print(s)\n",
    "    \n",
    "    def get_activitiy(self):\n",
    "        return [monkey.activitiy for monkey in self.values()]\n",
    "    \n",
    "hord = Hord()\n",
    "hord"
   ]
  },
  {
   "cell_type": "code",
   "execution_count": 2,
   "metadata": {},
   "outputs": [
    {
     "name": "stdout",
     "output_type": "stream",
     "text": [
      "Within no=0, before=2, destination: 2 3 \n",
      "Within no=1, before=8, destination: 7 7 7 7 7 7 7 7 \n",
      "Within no=2, before=6, destination: 3 3 5 5 3 5 \n",
      "Within no=3, before=5, destination: 5 5 5 5 5 \n",
      "Within no=4, before=3, destination: 6 6 7 \n",
      "Within no=5, before=14, destination: 1 1 4 1 1 1 1 1 4 1 1 1 1 1 \n",
      "Within no=6, before=6, destination: 2 2 2 2 2 2 \n",
      "Within no=7, before=16, destination: 0 0 0 0 0 0 0 0 0 0 0 0 0 0 0 0 \n"
     ]
    }
   ],
   "source": [
    "hord.do_round()"
   ]
  },
  {
   "cell_type": "code",
   "execution_count": 2,
   "metadata": {},
   "outputs": [
    {
     "name": "stdout",
     "output_type": "stream",
     "text": [
      "Monkey 0: [65, 78]\n",
      "Monkey 1: [54, 78, 86, 79, 73, 64, 85, 88]\n",
      "Monkey 2: [69, 97, 77, 88, 87]\n",
      "Monkey 3: [99]\n",
      "Monkey 4: [60, 57, 52]\n",
      "Monkey 5: [91, 82, 85, 73, 84, 53]\n",
      "Monkey 6: [88, 74, 68, 56]\n",
      "Monkey 7: [54, 82, 72, 71, 53, 99, 67]\n",
      "\n",
      "##########  1  ##########\n",
      "Monkey 0: [18, 27, 24, 24, 18, 33, 22, 7, 9, 10, 10, 9, 8, 10, 11, 110]\n",
      "Monkey 1: [32, 29, 26, 29, 19, 10, 11, 13, 10, 4, 5, 5]\n",
      "Monkey 2: [2581, 1825, 1541, 1045, 48133, 43440]\n",
      "Monkey 3: []\n",
      "Monkey 4: [30, 9]\n",
      "Monkey 5: []\n",
      "Monkey 6: []\n",
      "Monkey 7: []\n",
      "\n",
      "##########  2  ##########\n",
      "Monkey 0: [4, 4, 4, 3, 2, 2, 2, 2, 1, 1, 1]\n",
      "Monkey 1: [117, 13, 173, 4828, 4, 5, 4, 4, 4, 5, 4, 2, 97, 1784]\n",
      "Monkey 2: [12033, 1083, 1587]\n",
      "Monkey 3: []\n",
      "Monkey 4: [3, 3, 3, 3, 3, 3, 3, 69]\n",
      "Monkey 5: []\n",
      "Monkey 6: []\n",
      "Monkey 7: []\n",
      "\n",
      "##########  3  ##########\n",
      "Monkey 0: [14, 2, 20, 537, 1, 1, 1, 1, 1, 1, 1, 1, 12, 199]\n",
      "Monkey 1: [2, 2, 2, 2, 2, 2, 2, 2, 2, 2, 2]\n",
      "Monkey 2: [120, 120, 120, 120, 120, 120, 120, 63656]\n",
      "Monkey 3: []\n",
      "Monkey 4: [447, 42, 60]\n",
      "Monkey 5: []\n",
      "Monkey 6: []\n",
      "Monkey 7: []\n",
      "\n",
      "##########  4  ##########\n",
      "Monkey 0: [1, 1, 1, 1, 1, 1, 1, 1, 1, 1, 1, 89]\n",
      "Monkey 1: [2, 61, 2, 2, 2, 2, 2, 2, 2, 2, 2359, 2]\n",
      "Monkey 2: [2671520, 48133]\n",
      "Monkey 3: []\n",
      "Monkey 4: [15, 15, 15, 15, 15, 15, 15, 3, 3, 24]\n",
      "Monkey 5: []\n",
      "Monkey 6: []\n",
      "Monkey 7: []\n",
      "\n",
      "##########  5  ##########\n",
      "Monkey 0: [7701, 1, 8, 1, 1, 1, 1, 1, 1, 1, 1, 263, 1]\n",
      "Monkey 1: [2, 2, 2, 2, 2, 2, 2, 2, 2, 2, 2, 98947, 1784]\n",
      "Monkey 2: [3008, 3008, 3008, 3008, 3008, 3008, 3008, 120, 120]\n",
      "Monkey 3: []\n",
      "Monkey 4: [12]\n",
      "Monkey 5: []\n",
      "Monkey 6: []\n",
      "Monkey 7: []\n",
      "\n",
      "##########  6  ##########\n",
      "Monkey 0: [1, 1, 1, 1, 1, 1, 1, 1, 1, 1, 1, 10995, 199]\n",
      "Monkey 1: [857, 2, 2, 2, 2, 2, 2, 2, 2, 2, 31, 2, 113, 113, 113, 113, 113, 113, 113]\n",
      "Monkey 2: [1925]\n",
      "Monkey 3: []\n",
      "Monkey 4: [15, 15, 3]\n",
      "Monkey 5: []\n",
      "Monkey 6: []\n",
      "Monkey 7: []\n",
      "\n",
      "##########  7  ##########\n",
      "Monkey 0: [96, 1, 1, 1, 1, 1, 1, 1, 1, 1, 4, 1, 13, 13, 13, 13, 13, 13, 13]\n",
      "Monkey 1: [215, 2, 2, 2, 2, 2, 2, 2, 2, 2, 2, 2, 409]\n",
      "Monkey 2: [3008, 3008, 120]\n",
      "Monkey 3: []\n",
      "Monkey 4: [24]\n",
      "Monkey 5: []\n",
      "Monkey 6: []\n",
      "Monkey 7: []\n",
      "\n",
      "##########  8  ##########\n",
      "Monkey 0: [7701, 25, 1, 1, 1, 1, 1, 1, 1, 1, 1, 1, 1, 46]\n",
      "Monkey 1: [2, 2, 2, 2, 2, 2, 2, 2, 2, 2, 2, 113, 113]\n",
      "Monkey 2: []\n",
      "Monkey 3: []\n",
      "Monkey 4: [15, 12, 3, 3, 3, 3, 3, 3, 3]\n",
      "Monkey 5: []\n",
      "Monkey 6: []\n",
      "Monkey 7: []\n",
      "\n",
      "##########  9  ##########\n",
      "Monkey 0: [1, 1, 1, 1, 1, 1, 1, 1, 1, 1, 1, 13, 13]\n",
      "Monkey 1: [857, 2, 2, 2, 2, 2, 2, 2, 2, 2, 2, 2, 7]\n",
      "Monkey 2: [3008, 1925, 120, 120, 120, 120, 120, 120, 120]\n",
      "Monkey 3: []\n",
      "Monkey 4: [3]\n",
      "Monkey 5: []\n",
      "Monkey 6: []\n",
      "Monkey 7: []\n",
      "\n",
      "##########  10  ##########\n",
      "Monkey 0: [96, 1, 1, 1, 1, 1, 1, 1, 1, 1, 1, 1, 2]\n",
      "Monkey 1: [215, 2, 2, 2, 2, 2, 2, 2, 2, 2, 2, 2, 113]\n",
      "Monkey 2: [120]\n",
      "Monkey 3: []\n",
      "Monkey 4: [15, 15, 15, 15, 15, 15, 15, 3, 3]\n",
      "Monkey 5: []\n",
      "Monkey 6: []\n",
      "Monkey 7: []\n",
      "\n",
      "##########  11  ##########\n",
      "Monkey 0: [25, 1, 1, 1, 1, 1, 1, 1, 1, 1, 1, 1, 13]\n",
      "Monkey 1: [2, 2, 2, 2, 2, 2, 2, 2, 2, 2, 2, 2]\n",
      "Monkey 2: [3008, 3008, 3008, 3008, 3008, 3008, 3008, 120, 120]\n",
      "Monkey 3: []\n",
      "Monkey 4: [15, 12]\n",
      "Monkey 5: []\n",
      "Monkey 6: []\n",
      "Monkey 7: []\n",
      "\n",
      "##########  12  ##########\n",
      "Monkey 0: [1, 1, 1, 1, 1, 1, 1, 1, 1, 1, 1, 1]\n",
      "Monkey 1: [2, 2, 2, 2, 2, 2, 2, 2, 2, 2, 2, 113, 113, 113, 113, 113, 113, 113]\n",
      "Monkey 2: [3008, 1925]\n",
      "Monkey 3: []\n",
      "Monkey 4: [15, 15, 3, 3]\n",
      "Monkey 5: []\n",
      "Monkey 6: []\n",
      "Monkey 7: []\n",
      "\n",
      "##########  13  ##########\n",
      "Monkey 0: [1, 1, 1, 1, 1, 1, 1, 1, 1, 1, 1, 13, 13, 13, 13, 13, 13, 13]\n",
      "Monkey 1: [215, 2, 2, 2, 2, 2, 2, 2, 2, 2, 2, 2, 2, 113]\n",
      "Monkey 2: [3008, 3008, 120, 120]\n",
      "Monkey 3: []\n",
      "Monkey 4: []\n",
      "Monkey 5: []\n",
      "Monkey 6: []\n",
      "Monkey 7: []\n",
      "\n",
      "##########  14  ##########\n",
      "Monkey 0: [25, 1, 1, 1, 1, 1, 1, 1, 1, 1, 1, 1, 1, 13]\n",
      "Monkey 1: [2, 2, 2, 2, 2, 2, 2, 2, 2, 2, 2, 113, 113]\n",
      "Monkey 2: []\n",
      "Monkey 3: []\n",
      "Monkey 4: [15, 15, 3, 3, 3, 3, 3, 3, 3]\n",
      "Monkey 5: []\n",
      "Monkey 6: []\n",
      "Monkey 7: []\n",
      "\n",
      "##########  15  ##########\n",
      "Monkey 0: [1, 1, 1, 1, 1, 1, 1, 1, 1, 1, 1, 13, 13]\n",
      "Monkey 1: [2, 2, 2, 2, 2, 2, 2, 2, 2, 2, 2, 2]\n",
      "Monkey 2: [3008, 3008, 120, 120, 120, 120, 120, 120, 120]\n",
      "Monkey 3: []\n",
      "Monkey 4: [3, 3]\n",
      "Monkey 5: []\n",
      "Monkey 6: []\n",
      "Monkey 7: []\n",
      "\n",
      "##########  16  ##########\n",
      "Monkey 0: [1, 1, 1, 1, 1, 1, 1, 1, 1, 1, 1, 1]\n",
      "Monkey 1: [2, 2, 2, 2, 2, 2, 2, 2, 2, 2, 2, 113, 113]\n",
      "Monkey 2: [120, 120]\n",
      "Monkey 3: []\n",
      "Monkey 4: [15, 15, 15, 15, 15, 15, 15, 3, 3]\n",
      "Monkey 5: []\n",
      "Monkey 6: []\n",
      "Monkey 7: []\n",
      "\n",
      "##########  17  ##########\n",
      "Monkey 0: [1, 1, 1, 1, 1, 1, 1, 1, 1, 1, 1, 13, 13]\n",
      "Monkey 1: [2, 2, 2, 2, 2, 2, 2, 2, 2, 2, 2, 2]\n",
      "Monkey 2: [3008, 3008, 3008, 3008, 3008, 3008, 3008, 120, 120]\n",
      "Monkey 3: []\n",
      "Monkey 4: [15, 15]\n",
      "Monkey 5: []\n",
      "Monkey 6: []\n",
      "Monkey 7: []\n",
      "\n",
      "##########  18  ##########\n",
      "Monkey 0: [1, 1, 1, 1, 1, 1, 1, 1, 1, 1, 1, 1]\n",
      "Monkey 1: [2, 2, 2, 2, 2, 2, 2, 2, 2, 2, 2, 113, 113, 113, 113, 113, 113, 113]\n",
      "Monkey 2: [3008, 3008]\n",
      "Monkey 3: []\n",
      "Monkey 4: [15, 15, 3, 3]\n",
      "Monkey 5: []\n",
      "Monkey 6: []\n",
      "Monkey 7: []\n",
      "\n",
      "##########  19  ##########\n",
      "Monkey 0: [1, 1, 1, 1, 1, 1, 1, 1, 1, 1, 1, 13, 13, 13, 13, 13, 13, 13]\n",
      "Monkey 1: [2, 2, 2, 2, 2, 2, 2, 2, 2, 2, 2, 2, 113, 113]\n",
      "Monkey 2: [3008, 3008, 120, 120]\n",
      "Monkey 3: []\n",
      "Monkey 4: []\n",
      "Monkey 5: []\n",
      "Monkey 6: []\n",
      "Monkey 7: []\n",
      "\n",
      "##########  20  ##########\n",
      "Monkey 0: [1, 1, 1, 1, 1, 1, 1, 1, 1, 1, 1, 1, 13, 13]\n",
      "Monkey 1: [2, 2, 2, 2, 2, 2, 2, 2, 2, 2, 2, 113, 113]\n",
      "Monkey 2: []\n",
      "Monkey 3: []\n",
      "Monkey 4: [15, 15, 3, 3, 3, 3, 3, 3, 3]\n",
      "Monkey 5: []\n",
      "Monkey 6: []\n",
      "Monkey 7: []\n",
      "\n"
     ]
    }
   ],
   "source": [
    "print(hord)\n",
    "for round in range(20):\n",
    "    print(10*\"#\" + f\"  {round+1}  \" + 10*\"#\")\n",
    "    hord.do_round()\n",
    "    print(hord)"
   ]
  },
  {
   "cell_type": "code",
   "execution_count": 3,
   "metadata": {},
   "outputs": [
    {
     "data": {
      "text/plain": [
       "[265, 267, 98, 308, 83, 358, 85, 275]"
      ]
     },
     "execution_count": 3,
     "metadata": {},
     "output_type": "execute_result"
    }
   ],
   "source": [
    "hord.get_activitiy()"
   ]
  },
  {
   "cell_type": "code",
   "execution_count": 4,
   "metadata": {},
   "outputs": [
    {
     "data": {
      "text/plain": [
       "[83, 85, 98, 265, 267, 275, 308, 358]"
      ]
     },
     "execution_count": 4,
     "metadata": {},
     "output_type": "execute_result"
    }
   ],
   "source": [
    "sorted(hord.get_activitiy())"
   ]
  },
  {
   "cell_type": "code",
   "execution_count": 5,
   "metadata": {},
   "outputs": [
    {
     "data": {
      "text/plain": [
       "110264"
      ]
     },
     "execution_count": 5,
     "metadata": {},
     "output_type": "execute_result"
    }
   ],
   "source": [
    "308*358"
   ]
  },
  {
   "cell_type": "code",
   "execution_count": null,
   "metadata": {},
   "outputs": [],
   "source": []
  }
 ],
 "metadata": {
  "kernelspec": {
   "display_name": "plotly_env",
   "language": "python",
   "name": "python3"
  },
  "language_info": {
   "codemirror_mode": {
    "name": "ipython",
    "version": 3
   },
   "file_extension": ".py",
   "mimetype": "text/x-python",
   "name": "python",
   "nbconvert_exporter": "python",
   "pygments_lexer": "ipython3",
   "version": "3.7.9"
  },
  "orig_nbformat": 4,
  "vscode": {
   "interpreter": {
    "hash": "99a32b8e90907d15b68966f56ddf8976f60d6838c1489379362f65a518ade5ee"
   }
  }
 },
 "nbformat": 4,
 "nbformat_minor": 2
}
