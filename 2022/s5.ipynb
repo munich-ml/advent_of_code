{
 "cells": [
  {
   "cell_type": "code",
   "execution_count": 7,
   "metadata": {},
   "outputs": [],
   "source": [
    "with open(\"d5_crates.txt\", \"r\") as f:\n",
    "    lines = f.readlines()\n",
    "\n",
    "lines = lines[::-1]    # reverse lines\n",
    "headerline = lines[0]\n",
    "lines = lines[1:]"
   ]
  },
  {
   "cell_type": "code",
   "execution_count": 11,
   "metadata": {},
   "outputs": [
    {
     "data": {
      "text/plain": [
       "{1: '1', 5: '2', 9: '3', 13: '4', 17: '5', 21: '6', 25: '7', 29: '8', 33: '9'}"
      ]
     },
     "execution_count": 11,
     "metadata": {},
     "output_type": "execute_result"
    }
   ],
   "source": [
    "positions = {}   \n",
    "for pos, char in enumerate(headerline):\n",
    "    if char.isnumeric():\n",
    "        positions[pos] = char\n",
    "positions"
   ]
  },
  {
   "cell_type": "code",
   "execution_count": 12,
   "metadata": {},
   "outputs": [
    {
     "data": {
      "text/plain": [
       "{'1': [],\n",
       " '2': [],\n",
       " '3': [],\n",
       " '4': [],\n",
       " '5': [],\n",
       " '6': [],\n",
       " '7': [],\n",
       " '8': [],\n",
       " '9': []}"
      ]
     },
     "execution_count": 12,
     "metadata": {},
     "output_type": "execute_result"
    }
   ],
   "source": [
    "stacks = {stack: [] for stack in positions.values()}\n",
    "stacks"
   ]
  },
  {
   "cell_type": "code",
   "execution_count": 13,
   "metadata": {},
   "outputs": [
    {
     "data": {
      "text/plain": [
       "{'1': ['B', 'V', 'S', 'N', 'T', 'C', 'H', 'Q'],\n",
       " '2': ['W', 'D', 'B', 'G'],\n",
       " '3': ['F', 'W', 'R', 'T', 'S', 'Q', 'B'],\n",
       " '4': ['L', 'G', 'W', 'S', 'Z', 'J', 'D', 'N'],\n",
       " '5': ['M', 'P', 'D', 'V', 'F'],\n",
       " '6': ['F', 'W', 'J'],\n",
       " '7': ['L', 'N', 'Q', 'B', 'J', 'V'],\n",
       " '8': ['G', 'T', 'R', 'C', 'J', 'Q', 'S', 'N'],\n",
       " '9': ['J', 'S', 'Q', 'C', 'W', 'D', 'M']}"
      ]
     },
     "execution_count": 13,
     "metadata": {},
     "output_type": "execute_result"
    }
   ],
   "source": [
    "for line in lines:\n",
    "    for pos, stack in positions.items():\n",
    "        crate = line[pos]\n",
    "        if crate.isalpha():\n",
    "            stacks[stack].append(crate)\n",
    "stacks"
   ]
  },
  {
   "cell_type": "code",
   "execution_count": 22,
   "metadata": {},
   "outputs": [],
   "source": [
    "# load instructions\n",
    "with open(\"d5_instr.txt\", \"r\") as f:\n",
    "    lines = f.readlines()\n",
    "\n",
    "instructions = []\n",
    "for line in lines:\n",
    "    raw_cnt, locations = line.split(\"from\")\n",
    "    cnt = int(raw_cnt.replace(\"move\", \"\").strip())\n",
    "    raw_from, raw_to = locations.split(\"to\")\n",
    "    loc_from = raw_from.strip()\n",
    "    loc_to = raw_to.strip()\n",
    "    instructions.append((cnt, loc_from, loc_to))"
   ]
  },
  {
   "cell_type": "code",
   "execution_count": 25,
   "metadata": {},
   "outputs": [
    {
     "data": {
      "text/plain": [
       "{'1': ['B', 'V', 'S', 'N', 'T', 'C', 'H', 'Q'],\n",
       " '2': ['W', 'D', 'B', 'G'],\n",
       " '3': ['F', 'W', 'R', 'T', 'S', 'Q', 'B'],\n",
       " '4': ['L', 'G', 'W', 'S', 'Z', 'J', 'D', 'N'],\n",
       " '5': ['M', 'P', 'D', 'V', 'F'],\n",
       " '6': ['F', 'W', 'J'],\n",
       " '7': ['L', 'N', 'Q', 'B', 'J', 'V'],\n",
       " '8': ['G', 'T', 'R', 'C', 'J', 'Q', 'S', 'N'],\n",
       " '9': ['J', 'S', 'Q', 'C', 'W', 'D', 'M']}"
      ]
     },
     "execution_count": 25,
     "metadata": {},
     "output_type": "execute_result"
    }
   ],
   "source": [
    "# before\n",
    "stacks"
   ]
  },
  {
   "cell_type": "code",
   "execution_count": 26,
   "metadata": {},
   "outputs": [],
   "source": [
    "for cnt, loc_from, loc_to in instructions:\n",
    "    for _ in range(cnt):\n",
    "        stacks[loc_to].append(stacks[loc_from].pop())"
   ]
  },
  {
   "cell_type": "code",
   "execution_count": 27,
   "metadata": {},
   "outputs": [
    {
     "data": {
      "text/plain": [
       "{'1': ['C', 'G', 'F'],\n",
       " '2': ['Q', 'J'],\n",
       " '3': ['W', 'F', 'V', 'D', 'D', 'W', 'W', 'S'],\n",
       " '4': ['R', 'S', 'B', 'S', 'J', 'N', 'R'],\n",
       " '5': ['Q'],\n",
       " '6': ['S', 'Q', 'B', 'D', 'C'],\n",
       " '7': ['J', 'L', 'Q', 'S', 'V', 'J', 'W', 'D', 'J', 'G', 'B', 'C', 'F'],\n",
       " '8': ['T'],\n",
       " '9': ['M',\n",
       "  'L',\n",
       "  'G',\n",
       "  'T',\n",
       "  'N',\n",
       "  'Q',\n",
       "  'P',\n",
       "  'Z',\n",
       "  'B',\n",
       "  'T',\n",
       "  'W',\n",
       "  'M',\n",
       "  'V',\n",
       "  'H',\n",
       "  'N',\n",
       "  'N']}"
      ]
     },
     "execution_count": 27,
     "metadata": {},
     "output_type": "execute_result"
    }
   ],
   "source": [
    "# after\n",
    "stacks"
   ]
  },
  {
   "cell_type": "code",
   "execution_count": 28,
   "metadata": {},
   "outputs": [
    {
     "name": "stdout",
     "output_type": "stream",
     "text": [
      "FJSRQCFTN"
     ]
    }
   ],
   "source": [
    "for stack in stacks.values():\n",
    "    print(stack[-1], end=\"\")"
   ]
  },
  {
   "cell_type": "code",
   "execution_count": null,
   "metadata": {},
   "outputs": [],
   "source": []
  }
 ],
 "metadata": {
  "kernelspec": {
   "display_name": "plotly_env",
   "language": "python",
   "name": "python3"
  },
  "language_info": {
   "codemirror_mode": {
    "name": "ipython",
    "version": 3
   },
   "file_extension": ".py",
   "mimetype": "text/x-python",
   "name": "python",
   "nbconvert_exporter": "python",
   "pygments_lexer": "ipython3",
   "version": "3.7.9 (default, Aug 31 2020, 17:10:11) [MSC v.1916 64 bit (AMD64)]"
  },
  "orig_nbformat": 4,
  "vscode": {
   "interpreter": {
    "hash": "99a32b8e90907d15b68966f56ddf8976f60d6838c1489379362f65a518ade5ee"
   }
  }
 },
 "nbformat": 4,
 "nbformat_minor": 2
}
