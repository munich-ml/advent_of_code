{
 "cells": [
  {
   "cell_type": "code",
   "execution_count": 1,
   "metadata": {},
   "outputs": [],
   "source": [
    "with open(\"d4.txt\", \"r\") as f:\n",
    "    lines = f.readlines()"
   ]
  },
  {
   "cell_type": "code",
   "execution_count": 12,
   "metadata": {},
   "outputs": [
    {
     "data": {
      "text/plain": [
       "854"
      ]
     },
     "execution_count": 12,
     "metadata": {},
     "output_type": "execute_result"
    }
   ],
   "source": [
    "cnt = 0\n",
    "for line in lines:\n",
    "    line = line.strip()\n",
    "    ab, xy = line.split(\",\")\n",
    "    a, b = ab.split(\"-\")\n",
    "    x, y = xy.split(\"-\")\n",
    "    # ab_in_xy = int(a) >= int(x) and int(b) <= int(y)\n",
    "    # xy_in_ab = int(x) >= int(a) and int(y) <= int(b)\n",
    "    # full_overlap = ab_in_xy or xy_in_ab\n",
    "    # if full_overlap:\n",
    "    #     cnt += 1\n",
    "    rab = range(int(a), int(b)+1)\n",
    "    if int(x) in rab or int(y) in rab:\n",
    "        cnt += 1\n",
    "    else:\n",
    "        rxy = range(int(x), int(y)+1)\n",
    "        if int(a) in rxy or int(b) in rxy:\n",
    "            cnt += 1\n",
    "            \n",
    "cnt"
   ]
  },
  {
   "cell_type": "code",
   "execution_count": null,
   "metadata": {},
   "outputs": [],
   "source": []
  }
 ],
 "metadata": {
  "kernelspec": {
   "display_name": "plotly_env",
   "language": "python",
   "name": "python3"
  },
  "language_info": {
   "codemirror_mode": {
    "name": "ipython",
    "version": 3
   },
   "file_extension": ".py",
   "mimetype": "text/x-python",
   "name": "python",
   "nbconvert_exporter": "python",
   "pygments_lexer": "ipython3",
   "version": "3.7.9 (default, Aug 31 2020, 17:10:11) [MSC v.1916 64 bit (AMD64)]"
  },
  "orig_nbformat": 4,
  "vscode": {
   "interpreter": {
    "hash": "99a32b8e90907d15b68966f56ddf8976f60d6838c1489379362f65a518ade5ee"
   }
  }
 },
 "nbformat": 4,
 "nbformat_minor": 2
}
