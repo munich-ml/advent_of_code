{
 "cells": [
  {
   "cell_type": "code",
   "execution_count": 55,
   "metadata": {},
   "outputs": [
    {
     "data": {
      "text/plain": [
       "[-5901, -7708, 678]"
      ]
     },
     "execution_count": 55,
     "metadata": {},
     "output_type": "execute_result"
    }
   ],
   "source": [
    "with open(\"d20.txt\", \"r\") as f:\n",
    "    s = f.read()\n",
    "    nums = [int(line) for line in s.split(\"\\n\")]\n",
    "nums[:3]"
   ]
  },
  {
   "cell_type": "code",
   "execution_count": 56,
   "metadata": {},
   "outputs": [],
   "source": [
    "nums = [1, 2, -3, 3, -2, 0, 4]"
   ]
  },
  {
   "cell_type": "code",
   "execution_count": 57,
   "metadata": {},
   "outputs": [
    {
     "data": {
      "text/plain": [
       "(7, 7)"
      ]
     },
     "execution_count": 57,
     "metadata": {},
     "output_type": "execute_result"
    }
   ],
   "source": [
    "len(nums), len(set(nums))"
   ]
  },
  {
   "cell_type": "code",
   "execution_count": 58,
   "metadata": {},
   "outputs": [],
   "source": [
    "idxs = [i for i in range(len(nums))]"
   ]
  },
  {
   "cell_type": "code",
   "execution_count": 59,
   "metadata": {},
   "outputs": [
    {
     "name": "stdout",
     "output_type": "stream",
     "text": [
      "0 [1, 2, -3, 3, -2, 0, 4]\n",
      "i=0, nums=[2, 1, -3, 3, -2, 0, 4], idxs=[1, 0, 2, 3, 4, 5, 6], v=1, i_pop=0, i_put=1\n",
      "i=1, nums=[1, -3, 2, 3, -2, 0, 4], idxs=[0, 2, 1, 3, 4, 5, 6], v=2, i_pop=0, i_put=2\n",
      "i=2, nums=[1, 2, 3, -2, -3, 0, 4], idxs=[0, 1, 3, 4, 2, 5, 6], v=-3, i_pop=1, i_put=4\n",
      "i=3, nums=[1, 2, -2, -3, 0, 3, 4], idxs=[0, 1, 4, 2, 5, 3, 6], v=3, i_pop=2, i_put=5\n",
      "i=4, nums=[1, 2, -3, 0, 3, 4, -2], idxs=[0, 1, 2, 5, 3, 6, 4], v=-2, i_pop=2, i_put=6\n",
      "i=5, nums=[1, 2, -3, 0, 3, 4, -2], idxs=[0, 1, 2, 5, 3, 6, 4], v=0, i_pop=3, i_put=3\n",
      "i=6, nums=[1, 4, 2, -3, 0, 3, -2], idxs=[0, 6, 1, 2, 5, 3, 4], v=4, i_pop=5, i_put=1\n"
     ]
    }
   ],
   "source": [
    "LEN = len(nums)\n",
    "print(0, nums)\n",
    "for i in range(LEN):\n",
    "    i_pop = idxs.index(i)\n",
    "    v = nums.pop(i_pop)\n",
    "    i_put = i_pop + v\n",
    "    if v < 0:      # not plausible but tweaked to the test set\n",
    "        i_put -= 1\n",
    "    if i_put < 0:\n",
    "        i_put += LEN \n",
    "    elif i_put >= LEN:\n",
    "        i_put -= LEN + 1   # teaked to the test set\n",
    "    nums.insert(i_put, v)\n",
    "    v2 = idxs.pop(i_pop)\n",
    "    idxs.insert(i_put, v2)\n",
    "    print(f\"{i=}, {nums=}, {idxs=}, {v=}, {i_pop=}, {i_put=}\")"
   ]
  },
  {
   "cell_type": "code",
   "execution_count": 60,
   "metadata": {},
   "outputs": [],
   "source": [
    "#nums[1000]+nums[2000]+nums[3000]"
   ]
  },
  {
   "cell_type": "code",
   "execution_count": null,
   "metadata": {},
   "outputs": [],
   "source": []
  }
 ],
 "metadata": {
  "kernelspec": {
   "display_name": "base",
   "language": "python",
   "name": "python3"
  },
  "language_info": {
   "codemirror_mode": {
    "name": "ipython",
    "version": 3
   },
   "file_extension": ".py",
   "mimetype": "text/x-python",
   "name": "python",
   "nbconvert_exporter": "python",
   "pygments_lexer": "ipython3",
   "version": "3.8.5"
  },
  "orig_nbformat": 4,
  "vscode": {
   "interpreter": {
    "hash": "ad2bdc8ecc057115af97d19610ffacc2b4e99fae6737bb82f5d7fb13d2f2c186"
   }
  }
 },
 "nbformat": 4,
 "nbformat_minor": 2
}
