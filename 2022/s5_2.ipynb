{
 "cells": [
  {
   "cell_type": "code",
   "execution_count": 53,
   "metadata": {},
   "outputs": [],
   "source": [
    "with open(\"d5_crates.txt\", \"r\") as f:\n",
    "    lines = f.readlines()\n",
    "\n",
    "lines = lines[::-1]    # reverse lines\n",
    "headerline = lines[0]\n",
    "lines = lines[1:]"
   ]
  },
  {
   "cell_type": "code",
   "execution_count": 54,
   "metadata": {},
   "outputs": [
    {
     "data": {
      "text/plain": [
       "{1: '1', 5: '2', 9: '3', 13: '4', 17: '5', 21: '6', 25: '7', 29: '8', 33: '9'}"
      ]
     },
     "execution_count": 54,
     "metadata": {},
     "output_type": "execute_result"
    }
   ],
   "source": [
    "positions = {}   \n",
    "for pos, char in enumerate(headerline):\n",
    "    if char.isnumeric():\n",
    "        positions[pos] = char\n",
    "positions"
   ]
  },
  {
   "cell_type": "code",
   "execution_count": 55,
   "metadata": {},
   "outputs": [
    {
     "data": {
      "text/plain": [
       "{'1': ['B', 'V', 'S', 'N', 'T', 'C', 'H', 'Q'],\n",
       " '2': ['W', 'D', 'B', 'G'],\n",
       " '3': ['F', 'W', 'R', 'T', 'S', 'Q', 'B'],\n",
       " '4': ['L', 'G', 'W', 'S', 'Z', 'J', 'D', 'N'],\n",
       " '5': ['M', 'P', 'D', 'V', 'F'],\n",
       " '6': ['F', 'W', 'J'],\n",
       " '7': ['L', 'N', 'Q', 'B', 'J', 'V'],\n",
       " '8': ['G', 'T', 'R', 'C', 'J', 'Q', 'S', 'N'],\n",
       " '9': ['J', 'S', 'Q', 'C', 'W', 'D', 'M']}"
      ]
     },
     "execution_count": 55,
     "metadata": {},
     "output_type": "execute_result"
    }
   ],
   "source": [
    "stacks = {stack: [] for stack in positions.values()}\n",
    "for line in lines:\n",
    "    for pos, stack in positions.items():\n",
    "        crate = line[pos]\n",
    "        if crate.isalpha():\n",
    "            stacks[stack].append(crate)\n",
    "stacks"
   ]
  },
  {
   "cell_type": "code",
   "execution_count": 56,
   "metadata": {},
   "outputs": [],
   "source": [
    "# load instructions\n",
    "with open(\"d5_instr.txt\", \"r\") as f:\n",
    "    lines = f.readlines()\n",
    "\n",
    "instructions = []\n",
    "for line in lines:\n",
    "    raw_cnt, locations = line.split(\"from\")\n",
    "    cnt = int(raw_cnt.replace(\"move\", \"\").strip())\n",
    "    raw_from, raw_to = locations.split(\"to\")\n",
    "    loc_from = raw_from.strip()\n",
    "    loc_to = raw_to.strip()\n",
    "    instructions.append((cnt, loc_from, loc_to))"
   ]
  },
  {
   "cell_type": "code",
   "execution_count": 57,
   "metadata": {},
   "outputs": [
    {
     "data": {
      "text/plain": [
       "{'1': ['B', 'V', 'S', 'N', 'T', 'C', 'H', 'Q'],\n",
       " '2': ['W', 'D', 'B', 'G'],\n",
       " '3': ['F', 'W', 'R', 'T', 'S', 'Q', 'B'],\n",
       " '4': ['L', 'G', 'W', 'S', 'Z', 'J', 'D', 'N'],\n",
       " '5': ['M', 'P', 'D', 'V', 'F'],\n",
       " '6': ['F', 'W', 'J'],\n",
       " '7': ['L', 'N', 'Q', 'B', 'J', 'V'],\n",
       " '8': ['G', 'T', 'R', 'C', 'J', 'Q', 'S', 'N'],\n",
       " '9': ['J', 'S', 'Q', 'C', 'W', 'D', 'M']}"
      ]
     },
     "execution_count": 57,
     "metadata": {},
     "output_type": "execute_result"
    }
   ],
   "source": [
    "# before\n",
    "stacks"
   ]
  },
  {
   "cell_type": "code",
   "execution_count": 58,
   "metadata": {},
   "outputs": [],
   "source": [
    "for cnt, loc_from, loc_to in instructions:\n",
    "    cut = len(stacks[loc_from])-cnt\n",
    "    remainer, mover = stacks[loc_from][:cut], stacks[loc_from][cut:]\n",
    "    stacks[loc_from] = remainer\n",
    "    stacks[loc_to].extend(mover)"
   ]
  },
  {
   "cell_type": "code",
   "execution_count": 59,
   "metadata": {},
   "outputs": [
    {
     "data": {
      "text/plain": [
       "(5, '2', '6')"
      ]
     },
     "execution_count": 59,
     "metadata": {},
     "output_type": "execute_result"
    }
   ],
   "source": [
    "cnt, loc_from, loc_to "
   ]
  },
  {
   "cell_type": "code",
   "execution_count": 60,
   "metadata": {},
   "outputs": [
    {
     "data": {
      "text/plain": [
       "{'1': ['Q', 'Q', 'C'],\n",
       " '2': ['D', 'J'],\n",
       " '3': ['N', 'R', 'C', 'L', 'M', 'T', 'B', 'V'],\n",
       " '4': ['C', 'D', 'D', 'T', 'B', 'Q', 'L'],\n",
       " '5': ['J'],\n",
       " '6': ['W', 'G', 'J', 'Z', 'Q'],\n",
       " '7': ['N', 'S', 'N', 'S', 'B', 'J', 'T', 'V', 'N', 'F', 'V', 'Q', 'P'],\n",
       " '8': ['H'],\n",
       " '9': ['D',\n",
       "  'B',\n",
       "  'M',\n",
       "  'W',\n",
       "  'S',\n",
       "  'G',\n",
       "  'G',\n",
       "  'W',\n",
       "  'W',\n",
       "  'F',\n",
       "  'W',\n",
       "  'R',\n",
       "  'S',\n",
       "  'J',\n",
       "  'F',\n",
       "  'S']}"
      ]
     },
     "execution_count": 60,
     "metadata": {},
     "output_type": "execute_result"
    }
   ],
   "source": [
    "stacks"
   ]
  },
  {
   "cell_type": "code",
   "execution_count": null,
   "metadata": {},
   "outputs": [],
   "source": []
  },
  {
   "cell_type": "code",
   "execution_count": null,
   "metadata": {},
   "outputs": [],
   "source": []
  },
  {
   "cell_type": "code",
   "execution_count": null,
   "metadata": {},
   "outputs": [],
   "source": []
  },
  {
   "cell_type": "code",
   "execution_count": 61,
   "metadata": {},
   "outputs": [
    {
     "name": "stdout",
     "output_type": "stream",
     "text": [
      "CJVLJQPHS"
     ]
    }
   ],
   "source": [
    "for stack in stacks.values():\n",
    "    if stack:\n",
    "        print(stack[-1], end=\"\")"
   ]
  },
  {
   "cell_type": "code",
   "execution_count": null,
   "metadata": {},
   "outputs": [],
   "source": []
  }
 ],
 "metadata": {
  "kernelspec": {
   "display_name": "plotly_env",
   "language": "python",
   "name": "python3"
  },
  "language_info": {
   "codemirror_mode": {
    "name": "ipython",
    "version": 3
   },
   "file_extension": ".py",
   "mimetype": "text/x-python",
   "name": "python",
   "nbconvert_exporter": "python",
   "pygments_lexer": "ipython3",
   "version": "3.7.9"
  },
  "orig_nbformat": 4,
  "vscode": {
   "interpreter": {
    "hash": "99a32b8e90907d15b68966f56ddf8976f60d6838c1489379362f65a518ade5ee"
   }
  }
 },
 "nbformat": 4,
 "nbformat_minor": 2
}
