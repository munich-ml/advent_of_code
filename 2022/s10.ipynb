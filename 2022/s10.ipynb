{
 "cells": [
  {
   "cell_type": "code",
   "execution_count": 51,
   "metadata": {},
   "outputs": [],
   "source": [
    "import matplotlib.pyplot as plt"
   ]
  },
  {
   "cell_type": "code",
   "execution_count": 59,
   "metadata": {},
   "outputs": [],
   "source": [
    "with open(\"d10.txt\", \"r\") as f:\n",
    "    lines = f.readlines()"
   ]
  },
  {
   "cell_type": "code",
   "execution_count": 60,
   "metadata": {},
   "outputs": [],
   "source": [
    "v = 1\n",
    "vs = [v]\n",
    "for line in lines:\n",
    "    if \"noop\" in line:\n",
    "        vs.append(v)\n",
    "    else:\n",
    "        vs.append(v)\n",
    "        vs.append(v)\n",
    "        v += int(line.split(\" \")[-1])        "
   ]
  },
  {
   "cell_type": "code",
   "execution_count": 61,
   "metadata": {},
   "outputs": [
    {
     "data": {
      "text/plain": [
       "16880"
      ]
     },
     "execution_count": 61,
     "metadata": {},
     "output_type": "execute_result"
    }
   ],
   "source": [
    "idxs = [20, 60, 100, 140, 180, 220]\n",
    "su = 0\n",
    "for i in idxs:\n",
    "    # print(f\"{i=}, {vs[i]=}, {i*vs[i]=}\")\n",
    "    su += i * vs[i]\n",
    "su"
   ]
  },
  {
   "cell_type": "code",
   "execution_count": 73,
   "metadata": {},
   "outputs": [],
   "source": [
    "t = \"\"\n",
    "for i, v in enumerate(vs):\n",
    "    if v <= i%40 <= v+2:\n",
    "        t += \"O\"\n",
    "    else:\n",
    "        t += \" \""
   ]
  },
  {
   "cell_type": "code",
   "execution_count": 74,
   "metadata": {},
   "outputs": [
    {
     "name": "stdout",
     "output_type": "stream",
     "text": [
      " \n",
      "OOO  O  O  OO  OOOO  OO    OO OOO  OOO O\n",
      "O  O O O  O  O    O O  O    O O  O O  O \n",
      "O  O OO   O  O   O  O  O    O OOO  O  O \n",
      "OOO  O O  OOOO  O   OOOO    O O  O OOO  \n",
      "O O  O O  O  O O    O  O O  O O  O O O O\n",
      "O  O O  O O  O OOOO O  O  OO  OOO  O  O \n"
     ]
    }
   ],
   "source": [
    "for i, c in enumerate(t):\n",
    "    print(c, end=\"\")\n",
    "    if not i%40:\n",
    "        print()"
   ]
  },
  {
   "cell_type": "code",
   "execution_count": null,
   "metadata": {},
   "outputs": [],
   "source": []
  },
  {
   "cell_type": "code",
   "execution_count": null,
   "metadata": {},
   "outputs": [],
   "source": []
  }
 ],
 "metadata": {
  "kernelspec": {
   "display_name": "cv_env",
   "language": "python",
   "name": "python3"
  },
  "language_info": {
   "codemirror_mode": {
    "name": "ipython",
    "version": 3
   },
   "file_extension": ".py",
   "mimetype": "text/x-python",
   "name": "python",
   "nbconvert_exporter": "python",
   "pygments_lexer": "ipython3",
   "version": "3.10.5"
  },
  "orig_nbformat": 4,
  "vscode": {
   "interpreter": {
    "hash": "e330d2aa18c78571c8c10719e56b3ceb66907a62b5ad9143d155ff4541405166"
   }
  }
 },
 "nbformat": 4,
 "nbformat_minor": 2
}
