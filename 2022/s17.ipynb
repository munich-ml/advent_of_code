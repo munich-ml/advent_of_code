{
 "cells": [
  {
   "cell_type": "code",
   "execution_count": 509,
   "metadata": {},
   "outputs": [],
   "source": [
    "import numpy as np\n",
    "import time"
   ]
  },
  {
   "cell_type": "code",
   "execution_count": 510,
   "metadata": {},
   "outputs": [
    {
     "data": {
      "text/plain": [
       "10091"
      ]
     },
     "execution_count": 510,
     "metadata": {},
     "output_type": "execute_result"
    }
   ],
   "source": [
    "with open(\"d17.txt\", \"r\") as f:\n",
    "    wind_txt = f.read()\n",
    "#wind_txt = \">>><<><>><<<>><>>><<<>>><<<><<<>><>><<>>\"\n",
    "len(wind_txt)"
   ]
  },
  {
   "cell_type": "code",
   "execution_count": 511,
   "metadata": {},
   "outputs": [],
   "source": [
    "def print_array(array):\n",
    "    print(\"\".join(np.binary_repr(row, 7) + \"\\n\" for row in array))"
   ]
  },
  {
   "cell_type": "code",
   "execution_count": 512,
   "metadata": {},
   "outputs": [
    {
     "name": "stdout",
     "output_type": "stream",
     "text": [
      "dict_keys([-2, -1, 0, 1])\n",
      "dict_keys([-2, -1, 0, 1, 2])\n",
      "dict_keys([-2, -1, 0, 1, 2])\n",
      "dict_keys([-2, -1, 0, 1, 2, 3, 4])\n",
      "dict_keys([-2, -1, 0, 1, 2, 3])\n"
     ]
    }
   ],
   "source": [
    "dtype=np.int8\n",
    "base_rocks = [np.array([0b0011110,    # - shape\n",
    "                        0b0000000,\n",
    "                        0b0000000,\n",
    "                        0b0000000], dtype=dtype),\n",
    "              np.array([0b0001000,    # + shape\n",
    "                        0b0011100,\n",
    "                        0b0001000,\n",
    "                        0b0000000], dtype=dtype),\n",
    "              np.array([0b0011100,    # L shape\n",
    "                        0b0000100,\n",
    "                        0b0000100,\n",
    "                        0b0000000], dtype=dtype),   \n",
    "              np.array([0b0010000,    # | shape\n",
    "                        0b0010000,\n",
    "                        0b0010000,\n",
    "                        0b0010000], dtype=dtype),\n",
    "              np.array([0b0011000,    # square shape\n",
    "                        0b0011000,\n",
    "                        0b0000000,\n",
    "                        0b0000000], dtype=dtype)]\n",
    "right_border =np.array([0b0000001,    \n",
    "                        0b0000001,\n",
    "                        0b0000001,\n",
    "                        0b0000001], dtype=dtype)\n",
    "\n",
    "rocks = []\n",
    "for base_rock in base_rocks:\n",
    "    rock_dict = {}\n",
    "    rock = np.left_shift(base_rock, 2)\n",
    "    for shift in range(-2, 10, 1):\n",
    "        rock_dict[shift] = rock\n",
    "        if np.any(np.bitwise_and(rock, right_border)):\n",
    "            break\n",
    "        rock = np.right_shift(rock, 1)\n",
    "    else:\n",
    "        raise ValueError(\"Didn't hit border!\")\n",
    "    rocks.append(rock_dict)\n",
    "\n",
    "for rock_dict in rocks:\n",
    "    print(rock_dict.keys())"
   ]
  },
  {
   "cell_type": "code",
   "execution_count": 513,
   "metadata": {},
   "outputs": [
    {
     "data": {
      "text/plain": [
       "array([127,   0,   0,   0,   0], dtype=int8)"
      ]
     },
     "execution_count": 513,
     "metadata": {},
     "output_type": "execute_result"
    }
   ],
   "source": [
    "sta = np.zeros(shape=(10000,), dtype=dtype)\n",
    "sta[0] = np.array([0b1111111], dtype=dtype)\n",
    "sta[:5]"
   ]
  },
  {
   "cell_type": "code",
   "execution_count": 514,
   "metadata": {},
   "outputs": [
    {
     "data": {
      "text/plain": [
       "0"
      ]
     },
     "execution_count": 514,
     "metadata": {},
     "output_type": "execute_result"
    }
   ],
   "source": [
    "height = 0\n",
    "def update_height(height):\n",
    "    while sta[height+1]:\n",
    "        height += 1\n",
    "    return height\n",
    "height = update_height(height)\n",
    "height"
   ]
  },
  {
   "cell_type": "code",
   "execution_count": 515,
   "metadata": {},
   "outputs": [
    {
     "data": {
      "text/plain": [
       "(3127, 0.3059145000006538)"
      ]
     },
     "execution_count": 515,
     "metadata": {},
     "output_type": "execute_result"
    }
   ],
   "source": [
    "t0 = time.perf_counter()\n",
    "N_ROUNDS = 2022\n",
    "SPACING_HEIGHT = 4      # rocks appear with 3 rows of spacing (air) above the current height\n",
    "BLOCK_HEIGHT = 4        # height of the comparison block (=4)\n",
    "N_ROCKS = len(rocks)\n",
    "N_WIND = len(wind_txt)\n",
    "i_wind = 0              # wind vector index\n",
    "for i_round in range(N_ROUNDS):\n",
    "    rock_dict = rocks[i_round%N_ROCKS]\n",
    "    i_col = 0           # column index\n",
    "    dh = SPACING_HEIGHT \n",
    "    while True:\n",
    "        h = height + dh\n",
    "        # move sideways\n",
    "        wind_chr = wind_txt[i_wind%N_WIND]\n",
    "        i_wind += 1\n",
    "        moved_sideways = False\n",
    "        if wind_chr == \"<\": \n",
    "            if i_col-1 in rock_dict.keys():\n",
    "                i_col -= 1\n",
    "                moved_sideways = True\n",
    "        else:\n",
    "            if i_col+1 in rock_dict.keys():\n",
    "                i_col += 1\n",
    "                moved_sideways = True\n",
    "        \n",
    "        # if rock hits the stack    \n",
    "        if moved_sideways:\n",
    "            #print(f\"{height=}, {dh=}, {h=}\")\n",
    "            if np.any(np.bitwise_and(sta[h:h+BLOCK_HEIGHT], rock_dict[i_col])):\n",
    "                if wind_chr == \">\": \n",
    "                    i_col -= 1\n",
    "                else:\n",
    "                    i_col += 1     \n",
    "                       \n",
    "        # move down\n",
    "        rock = rock_dict[i_col]\n",
    "        if np.any(np.bitwise_and(sta[h-1:h-1+BLOCK_HEIGHT], rock)):\n",
    "            sta[h:h+BLOCK_HEIGHT] = np.bitwise_or(sta[h:h+BLOCK_HEIGHT], rock)\n",
    "            height = update_height(height)\n",
    "            break\n",
    "        dh -= 1\n",
    "        \n",
    "height, time.perf_counter() - t0"
   ]
  },
  {
   "cell_type": "code",
   "execution_count": 520,
   "metadata": {},
   "outputs": [
    {
     "data": {
      "text/plain": [
       "4.704716911537773"
      ]
     },
     "execution_count": 520,
     "metadata": {},
     "output_type": "execute_result"
    }
   ],
   "source": [
    "1e12/2022*0.3/3600/24/365"
   ]
  },
  {
   "cell_type": "code",
   "execution_count": null,
   "metadata": {},
   "outputs": [],
   "source": []
  }
 ],
 "metadata": {
  "kernelspec": {
   "display_name": "cv_env",
   "language": "python",
   "name": "python3"
  },
  "language_info": {
   "codemirror_mode": {
    "name": "ipython",
    "version": 3
   },
   "file_extension": ".py",
   "mimetype": "text/x-python",
   "name": "python",
   "nbconvert_exporter": "python",
   "pygments_lexer": "ipython3",
   "version": "3.10.5"
  },
  "orig_nbformat": 4,
  "vscode": {
   "interpreter": {
    "hash": "e330d2aa18c78571c8c10719e56b3ceb66907a62b5ad9143d155ff4541405166"
   }
  }
 },
 "nbformat": 4,
 "nbformat_minor": 2
}
