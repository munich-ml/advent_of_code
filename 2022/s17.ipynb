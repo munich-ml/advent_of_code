{
 "cells": [
  {
   "cell_type": "code",
   "execution_count": 146,
   "metadata": {},
   "outputs": [],
   "source": [
    "import numpy as np"
   ]
  },
  {
   "cell_type": "code",
   "execution_count": 190,
   "metadata": {},
   "outputs": [
    {
     "name": "stdout",
     "output_type": "stream",
     "text": [
      "10091\n"
     ]
    }
   ],
   "source": [
    "with open(\"d17.txt\", \"r\") as f:\n",
    "    wind_txt = f.read()\n",
    "print(len(wind_txt))"
   ]
  },
  {
   "cell_type": "code",
   "execution_count": 148,
   "metadata": {},
   "outputs": [],
   "source": [
    "def print_array(array):\n",
    "    print(\"\".join(np.binary_repr(row, 7) + \"\\n\" for row in array))"
   ]
  },
  {
   "cell_type": "code",
   "execution_count": 179,
   "metadata": {},
   "outputs": [
    {
     "name": "stdout",
     "output_type": "stream",
     "text": [
      "dict_keys([-2, -1, 0, 1])\n",
      "dict_keys([-2, -1, 0, 1, 2])\n",
      "dict_keys([-2, -1, 0, 1, 2])\n",
      "dict_keys([-2, -1, 0, 1, 2, 3, 4])\n",
      "dict_keys([-2, -1, 0, 1, 2, 3])\n"
     ]
    }
   ],
   "source": [
    "dtype=np.int8\n",
    "base_rocks = [np.array([0b0011110,    # - shape\n",
    "                        0b0000000,\n",
    "                        0b0000000,\n",
    "                        0b0000000], dtype=dtype),\n",
    "              np.array([0b0001000,    # + shape\n",
    "                        0b0011100,\n",
    "                        0b0001000,\n",
    "                        0b0000000], dtype=dtype),\n",
    "              np.array([0b0011100,    # L shape\n",
    "                        0b0000100,\n",
    "                        0b0000100,\n",
    "                        0b0000000], dtype=dtype),   \n",
    "              np.array([0b0010000,    # | shape\n",
    "                        0b0010000,\n",
    "                        0b0010000,\n",
    "                        0b0010000], dtype=dtype),\n",
    "              np.array([0b0011000,    # square shape\n",
    "                        0b0011000,\n",
    "                        0b0000000,\n",
    "                        0b0000000], dtype=dtype)]\n",
    "right_border =np.array([0b0000001,    \n",
    "                        0b0000001,\n",
    "                        0b0000001,\n",
    "                        0b0000001], dtype=dtype)\n",
    "\n",
    "rocks = []\n",
    "for base_rock in base_rocks:\n",
    "    rock_dict = {}\n",
    "    rock = np.left_shift(base_rock, 2)\n",
    "    for shift in range(-2, 10, 1):\n",
    "        rock_dict[shift] = rock\n",
    "        if np.any(np.bitwise_and(rock, right_border)):\n",
    "            break\n",
    "        rock = np.right_shift(rock, 1)\n",
    "    else:\n",
    "        raise ValueError(\"Didn't hit border!\")\n",
    "    rocks.append(rock_dict)\n",
    "\n",
    "for rock_dict in rocks:\n",
    "    print(rock_dict.keys())"
   ]
  },
  {
   "cell_type": "code",
   "execution_count": 181,
   "metadata": {},
   "outputs": [
    {
     "data": {
      "text/plain": [
       "array([127,   0,   0,   0,   0], dtype=int8)"
      ]
     },
     "execution_count": 181,
     "metadata": {},
     "output_type": "execute_result"
    }
   ],
   "source": [
    "sta = np.zeros(shape=(10000,), dtype=dtype)\n",
    "sta[0] = np.array([0b1111111], dtype=dtype)\n",
    "sta[:5]"
   ]
  },
  {
   "cell_type": "code",
   "execution_count": 182,
   "metadata": {},
   "outputs": [
    {
     "data": {
      "text/plain": [
       "0"
      ]
     },
     "execution_count": 182,
     "metadata": {},
     "output_type": "execute_result"
    }
   ],
   "source": [
    "height = 0\n",
    "def update_height(height):\n",
    "    while sta[height+1]:\n",
    "        height += 1\n",
    "    return height\n",
    "height = update_height(height)\n",
    "height"
   ]
  },
  {
   "cell_type": "code",
   "execution_count": 183,
   "metadata": {},
   "outputs": [
    {
     "name": "stdout",
     "output_type": "stream",
     "text": [
      "n_rock=0 hits at dh=0, height=0\n",
      "n_rock=1 hits at dh=0, height=1\n",
      "n_rock=2 hits at dh=0, height=4\n",
      "n_rock=3 hits at dh=-2, height=7\n",
      "n_rock=4 hits at dh=0, height=9\n"
     ]
    }
   ],
   "source": [
    "SPACING_HEIGHT = 3      # rocks appear with 3 rows of spacing (air) above the current height\n",
    "BLOCK_HEIGHT = 4        # height of the comparison block (=4)\n",
    "N_ROCKS = len(rocks)\n",
    "N_WIND = len(wind_txt)\n",
    "i_wind = 0              # wind vector index\n",
    "for n_rock in range(5):\n",
    "    rock_dict = rocks[n_rock%N_ROCKS]\n",
    "    rock = rock_dict[0]\n",
    "    dh = SPACING_HEIGHT + 1\n",
    "    while True:\n",
    "        h = height + dh\n",
    "        wind = wind_txt[i_wind%N_WIND]\n",
    "        \n",
    "        if np.any(np.bitwise_and(sta[h:h+BLOCK_HEIGHT], rock)):\n",
    "            print(f\"{n_rock=} hits at {dh=}, {height=}\")\n",
    "            h += 1\n",
    "            sta[h:h+BLOCK_HEIGHT] = np.bitwise_or(sta[h:h+BLOCK_HEIGHT], rock)\n",
    "            height = update_height(height)\n",
    "            break\n",
    "        dh -= 1"
   ]
  },
  {
   "cell_type": "code",
   "execution_count": 184,
   "metadata": {},
   "outputs": [
    {
     "name": "stdout",
     "output_type": "stream",
     "text": [
      "1111111\n",
      "0011110\n",
      "0001000\n",
      "0011100\n",
      "0001000\n",
      "0011100\n",
      "0010100\n",
      "0010100\n",
      "0010000\n",
      "0010000\n",
      "0011000\n",
      "0011000\n",
      "0000000\n",
      "\n"
     ]
    }
   ],
   "source": [
    "print_array(sta[:height+2])"
   ]
  },
  {
   "cell_type": "code",
   "execution_count": 133,
   "metadata": {},
   "outputs": [
    {
     "data": {
      "text/plain": [
       "7"
      ]
     },
     "execution_count": 133,
     "metadata": {},
     "output_type": "execute_result"
    }
   ],
   "source": [
    "height"
   ]
  },
  {
   "cell_type": "code",
   "execution_count": null,
   "metadata": {},
   "outputs": [],
   "source": []
  }
 ],
 "metadata": {
  "kernelspec": {
   "display_name": "cv_env",
   "language": "python",
   "name": "python3"
  },
  "language_info": {
   "codemirror_mode": {
    "name": "ipython",
    "version": 3
   },
   "file_extension": ".py",
   "mimetype": "text/x-python",
   "name": "python",
   "nbconvert_exporter": "python",
   "pygments_lexer": "ipython3",
   "version": "3.10.5"
  },
  "orig_nbformat": 4,
  "vscode": {
   "interpreter": {
    "hash": "e330d2aa18c78571c8c10719e56b3ceb66907a62b5ad9143d155ff4541405166"
   }
  }
 },
 "nbformat": 4,
 "nbformat_minor": 2
}
