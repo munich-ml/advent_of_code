{
 "cells": [
  {
   "cell_type": "code",
   "execution_count": 92,
   "metadata": {},
   "outputs": [
    {
     "data": {
      "text/plain": [
       "Monkey 0 (2) [0, 10, 1, 0, 2, 2, 14, 8]  [3, 1, 0, 0, 1, 0, 10, 2]\n",
       "Monkey 1 (8) [4, 10, 0, 2, 5, 0, 3, 16]  [3, 1, 0, 0, 1, 0, 10, 2]  [1, 9, 0, 8, 2, 2, 1, 10]  [4, 2, 1, 1, 2, 1, 11, 3]  [3, 7, 1, 8, 3, 1, 5, 16]  [4, 9, 0, 12, 1, 1, 13, 7]  [0, 8, 1, 7, 1, 1, 0, 9]  [3, 0, 0, 10, 4, 1, 3, 12]\n",
       "Monkey 2 (5) [4, 3, 1, 4, 6, 0, 1, 12]  [2, 9, 1, 6, 6, 1, 12, 2]  [2, 0, 1, 12, 0, 2, 9, 1]  [3, 0, 0, 10, 4, 1, 3, 12]  [2, 10, 1, 9, 3, 0, 2, 11]\n",
       "Monkey 3 (1) [4, 0, 1, 8, 1, 0, 14, 4]\n",
       "Monkey 4 (3) [0, 5, 0, 8, 4, 0, 9, 3]  [2, 2, 1, 5, 1, 0, 6, 0]  [2, 8, 0, 0, 3, 1, 1, 14]\n",
       "Monkey 5 (6) [1, 3, 1, 0, 0, 1, 6, 15]  [2, 5, 0, 4, 5, 1, 14, 6]  [0, 8, 1, 7, 1, 1, 0, 9]  [3, 7, 1, 8, 3, 1, 5, 16]  [4, 7, 0, 6, 0, 0, 16, 8]  [3, 9, 1, 1, 4, 2, 2, 15]\n",
       "Monkey 6 (4) [3, 0, 0, 10, 4, 1, 3, 12]  [4, 8, 0, 9, 4, 2, 6, 17]  [3, 2, 0, 3, 5, 2, 0, 11]  [1, 1, 0, 4, 0, 2, 5, 18]\n",
       "Monkey 7 (7) [4, 10, 0, 2, 5, 0, 3, 16]  [2, 5, 0, 4, 5, 1, 14, 6]  [2, 6, 0, 7, 2, 0, 4, 15]  [1, 5, 1, 6, 1, 2, 3, 14]  [3, 9, 1, 1, 4, 2, 2, 15]  [4, 0, 1, 8, 1, 0, 14, 4]  [2, 1, 1, 2, 4, 1, 16, 10]"
      ]
     },
     "execution_count": 92,
     "metadata": {},
     "output_type": "execute_result"
    }
   ],
   "source": [
    "import time\n",
    "\n",
    "class Monkey:\n",
    "    def __init__(self, no, items, operation, divider, next_monkey):\n",
    "        self.no = no\n",
    "        self.items = items\n",
    "        self.operation = operation\n",
    "        self.divider = divider\n",
    "        self.next_monkey = next_monkey\n",
    "        self.activitiy = 0\n",
    "        \n",
    "    def inspect_items(self):\n",
    "        self.activitiy += len(self.items)\n",
    "        for idx in range(len(self.items)):\n",
    "            exec(self.operation.replace(\"idx\", str(idx)))\n",
    "            \n",
    "    def inspect_remainers(self):\n",
    "        self.activitiy += len(self.remainers)\n",
    "        for idx in range(len(self.remainers)):\n",
    "            for no in self.remainers[0].keys():\n",
    "                operation = self.operation.replace(\"idx\", str(idx)).replace(\"no\", f\"'{no}'\")\n",
    "                exec(operation)\n",
    "            \n",
    "    def get_destination(self, remainer):\n",
    "        return str(self.next_monkey[not remainer[self.no]])\n",
    "        \n",
    "        \n",
    "class Hord(dict):\n",
    "    def __init__(self, filename=\"d11.txt\"):\n",
    "        with open(filename, \"r\") as f:\n",
    "            s = f.read() \n",
    "            for block in s.split(\"\\n\\n\"):\n",
    "                lines = block.split(\"\\n\")\n",
    "                no = lines[0].replace(\"Monkey\", \"\").strip(\": \")\n",
    "                items = [int(item) for item in lines[1].replace(\"Starting items:\", \"\").split(\",\")]\n",
    "                operation = lines[2].replace(\"Operation:\", \"\").strip()\n",
    "                operation = operation.replace(\"old\", \"new\").replace(\"new\", \"self.remainers[idx][no]\")\n",
    "                divider = int(lines[3].split(\" \")[-1])\n",
    "                next_monkey = {True: int(lines[4].split(\" \")[-1]),\n",
    "                               False: int(lines[5].split(\" \")[-1])}\n",
    "                self[no] = Monkey(no, items, operation, divider, next_monkey)\n",
    "            \n",
    "        self._create_remainers()\n",
    "        self.dividers = {no: monkey.divider for no, monkey in self.items()}\n",
    "    \n",
    "    def _create_remainers(self):\n",
    "        for monkey in self.values():\n",
    "            monkey.remainers = []\n",
    "            for item in monkey.items:\n",
    "                remainer = dict()\n",
    "                for no in self.keys():\n",
    "                    remainer[no] = item % self[no].divider\n",
    "                monkey.remainers.append(remainer)\n",
    "    \n",
    "    def __repr__(self):\n",
    "        s = \"\"\n",
    "        for no, monkey in self.items():\n",
    "            s1 = \"\"\n",
    "            for remainer in monkey.remainers:\n",
    "                s1 += str(list(remainer.values())) + \"  \"\n",
    "            s += f\"Monkey {no} ({len(monkey.remainers)}) {s1[:-2]}\\n\"\n",
    "        return s\n",
    "    \n",
    "    \n",
    "    def do_round(self):\n",
    "        for no, monkey in self.items():\n",
    "            #s = f\"Within no={no}, before={len(monkey.remainers)}, destination: \"\n",
    "            monkey.inspect_remainers()\n",
    "            for remainer in monkey.remainers:\n",
    "                for no2 in remainer.keys():\n",
    "                    remainer[no2] = remainer[no2] % self.dividers[no2]\n",
    "            \n",
    "            for remainer in monkey.remainers:\n",
    "                destination = monkey.get_destination(remainer)\n",
    "                #s += f\"{destination} \"\n",
    "                self[destination].remainers.append(remainer)\n",
    "            \n",
    "            monkey.remainers = list()\n",
    "            #print(s)\n",
    "    \n",
    "    def get_activitiy(self):\n",
    "        return [monkey.activitiy for monkey in self.values()]\n",
    "    \n",
    "hord = Hord()\n",
    "hord"
   ]
  },
  {
   "cell_type": "code",
   "execution_count": 93,
   "metadata": {},
   "outputs": [
    {
     "name": "stdout",
     "output_type": "stream",
     "text": [
      "Computation time 283.8s\n"
     ]
    },
    {
     "data": {
      "text/plain": [
       "[49887, 55635, 130660, 130983, 132374, 132736, 140002, 168658]"
      ]
     },
     "execution_count": 93,
     "metadata": {},
     "output_type": "execute_result"
    }
   ],
   "source": [
    "t0 = time.time()\n",
    "for round in range(10_000):\n",
    "    hord.do_round()\n",
    "print(f\"Computation time {time.time()-t0:.1f}s\")\n",
    "sorted(hord.get_activitiy())"
   ]
  },
  {
   "cell_type": "code",
   "execution_count": 94,
   "metadata": {},
   "outputs": [
    {
     "data": {
      "text/plain": [
       "23612457316"
      ]
     },
     "execution_count": 94,
     "metadata": {},
     "output_type": "execute_result"
    }
   ],
   "source": [
    "140002* 168658"
   ]
  },
  {
   "cell_type": "code",
   "execution_count": null,
   "metadata": {},
   "outputs": [],
   "source": []
  }
 ],
 "metadata": {
  "kernelspec": {
   "display_name": "plotly_env",
   "language": "python",
   "name": "python3"
  },
  "language_info": {
   "codemirror_mode": {
    "name": "ipython",
    "version": 3
   },
   "file_extension": ".py",
   "mimetype": "text/x-python",
   "name": "python",
   "nbconvert_exporter": "python",
   "pygments_lexer": "ipython3",
   "version": "3.7.9"
  },
  "orig_nbformat": 4,
  "vscode": {
   "interpreter": {
    "hash": "99a32b8e90907d15b68966f56ddf8976f60d6838c1489379362f65a518ade5ee"
   }
  }
 },
 "nbformat": 4,
 "nbformat_minor": 2
}
