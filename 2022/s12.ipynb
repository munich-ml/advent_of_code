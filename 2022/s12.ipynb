{
 "cells": [
  {
   "cell_type": "code",
   "execution_count": 48,
   "metadata": {},
   "outputs": [],
   "source": [
    "import time\n",
    "import numpy as np\n",
    "import pandas as pd\n",
    "import matplotlib.pyplot as plt\n",
    "from queue import Queue"
   ]
  },
  {
   "cell_type": "code",
   "execution_count": 49,
   "metadata": {},
   "outputs": [
    {
     "data": {
      "text/plain": [
       "((20, 0), (20, 139))"
      ]
     },
     "execution_count": 49,
     "metadata": {},
     "output_type": "execute_result"
    }
   ],
   "source": [
    "with open(\"d12.txt\", \"r\") as f:\n",
    "    txt = f.read()\n",
    "    lines = []\n",
    "    for row, txt_line in enumerate(txt.split(\"\\n\")):\n",
    "        line = []\n",
    "        for col, char in enumerate(txt_line):\n",
    "            if char == 'S':\n",
    "                char = 'a'\n",
    "                start = row, col\n",
    "            elif char == 'E':\n",
    "                char = 'z'    \n",
    "                stop = row, col\n",
    "            line.append(ord(char)-ord(\"a\"))\n",
    "        lines.append(line)\n",
    "    m = np.array(lines)\n",
    "start, stop"
   ]
  },
  {
   "cell_type": "code",
   "execution_count": 50,
   "metadata": {},
   "outputs": [
    {
     "data": {
      "image/png": "[encoded data removed]",
      "text/plain": [
       "<Figure size 1440x720 with 1 Axes>"
      ]
     },
     "metadata": {
      "needs_background": "light"
     },
     "output_type": "display_data"
    }
   ],
   "source": [
    "plt.figure(figsize = (20, 10))\n",
    "plt.imshow(m, interpolation='nearest', cmap=plt.cm.bwr);\n",
    "plt.arrow(start[1], start[0], stop[1]-start[1], stop[0]-start[0], head_width=0.5, length_includes_head=True);"
   ]
  },
  {
   "attachments": {},
   "cell_type": "markdown",
   "metadata": {},
   "source": [
    "## Reduce m-size for training"
   ]
  },
  {
   "cell_type": "code",
   "execution_count": 51,
   "metadata": {},
   "outputs": [],
   "source": [
    "# m = m[19:26, 135:145]\n",
    "# start = (6, 3)\n",
    "# stop = (1, 5)\n",
    "# plt.figure(figsize = (5, 4))\n",
    "# plt.imshow(m, interpolation='nearest', cmap=plt.cm.bwr);\n",
    "# plt.arrow(start[1], start[0], stop[1]-start[1], stop[0]-start[0], head_width=0.3, length_includes_head=True);\n",
    "# \n",
    "# pd.DataFrame(m)"
   ]
  },
  {
   "cell_type": "code",
   "execution_count": 52,
   "metadata": {},
   "outputs": [],
   "source": [
    "class Node:\n",
    "    __id = -1\n",
    "    @classmethod\n",
    "    def __get_id(cls):\n",
    "        cls.__id += 1\n",
    "        return cls.__id\n",
    "        \n",
    "    def __init__(self, pos, parent = None):\n",
    "        self.id = self.__get_id()\n",
    "        self.pos = pos      # row, col\n",
    "        self.parent = parent\n",
    "        \n",
    "    def __repr__(self):\n",
    "        return f\"N{self.id}\"\n",
    "    \n",
    "def get_successors(pos):\n",
    "    succs = []\n",
    "    row, col = pos\n",
    "    neighbours = [(row+1, col), (row, col+1)]\n",
    "    if row > 0:\n",
    "        neighbours.append((row-1, col))\n",
    "    if col > 0:\n",
    "        neighbours.append((row, col-1))\n",
    "    for neighbour in neighbours:\n",
    "        try:\n",
    "            if m[neighbour] - m[pos] <= 1:\n",
    "                succs.append(neighbour)\n",
    "        except IndexError:\n",
    "            pass\n",
    "    return succs\n",
    "                 \n",
    "def deapth_first_search(start_pos, destination):\n",
    "    fifo = Queue()\n",
    "    fifo.put(Node(pos=start_pos))\n",
    "    visited = [start_pos]\n",
    "    run = 0\n",
    "    t0 = time.time()\n",
    "    while not fifo.empty():\n",
    "        current_node = fifo.get()\n",
    "        if current_node.pos == destination:\n",
    "            print(f\"Success! In {run=}, {time.time()-t0 :.1f}s\")\n",
    "            return current_node\n",
    "        for child in get_successors(current_node.pos):\n",
    "            if child not in visited:\n",
    "                visited.append(child)\n",
    "                fifo.put(Node(pos=child, parent=current_node))\n",
    "        run += 1\n",
    "    print(\"Stop not found!\")\n",
    "    return visited\n",
    "    \n",
    "    \n",
    "def get_family_tree(node):\n",
    "    xs, ys = [], []\n",
    "    def __get_predesessor(node):\n",
    "        xs.append(node.pos[1])\n",
    "        ys.append(node.pos[0])\n",
    "        if node.parent is not None:\n",
    "            __get_predesessor(node.parent)\n",
    "    __get_predesessor(node)\n",
    "    return xs, ys\n",
    "    "
   ]
  },
  {
   "cell_type": "code",
   "execution_count": 53,
   "metadata": {},
   "outputs": [
    {
     "name": "stdout",
     "output_type": "stream",
     "text": [
      "Success! In run=6542, 3.4s\n"
     ]
    },
    {
     "data": {
      "text/plain": [
       "N6542"
      ]
     },
     "execution_count": 53,
     "metadata": {},
     "output_type": "execute_result"
    }
   ],
   "source": [
    "res = deapth_first_search(start, stop)\n",
    "res"
   ]
  },
  {
   "cell_type": "code",
   "execution_count": 54,
   "metadata": {},
   "outputs": [
    {
     "data": {
      "text/plain": [
       "'the solution is: 481'"
      ]
     },
     "execution_count": 54,
     "metadata": {},
     "output_type": "execute_result"
    }
   ],
   "source": [
    "xs, ys = get_family_tree(res)\n",
    "f\"the solution is: {len(xs)-1}\""
   ]
  },
  {
   "cell_type": "code",
   "execution_count": 55,
   "metadata": {},
   "outputs": [],
   "source": [
    "%matplotlib inline\n",
    "#%matplotlib qt"
   ]
  },
  {
   "cell_type": "code",
   "execution_count": 56,
   "metadata": {},
   "outputs": [
    {
     "data": {
      "image/png": "[encoded data removed]",
      "text/plain": [
       "<Figure size 1440x720 with 1 Axes>"
      ]
     },
     "metadata": {
      "needs_background": "light"
     },
     "output_type": "display_data"
    }
   ],
   "source": [
    "plt.figure(figsize = (20, 10))\n",
    "plt.imshow(m, interpolation='nearest', cmap=plt.cm.bwr);\n",
    "plt.arrow(start[1], start[0], stop[1]-start[1], stop[0]-start[0],head_width=0.3, length_includes_head=True)\n",
    "plt.plot(xs, ys, \"*k\");"
   ]
  },
  {
   "cell_type": "code",
   "execution_count": null,
   "metadata": {},
   "outputs": [],
   "source": []
  }
 ],
 "metadata": {
  "kernelspec": {
   "display_name": "cv_env",
   "language": "python",
   "name": "python3"
  },
  "language_info": {
   "codemirror_mode": {
    "name": "ipython",
    "version": 3
   },
   "file_extension": ".py",
   "mimetype": "text/x-python",
   "name": "python",
   "nbconvert_exporter": "python",
   "pygments_lexer": "ipython3",
   "version": "3.10.5"
  },
  "orig_nbformat": 4,
  "vscode": {
   "interpreter": {
    "hash": "e330d2aa18c78571c8c10719e56b3ceb66907a62b5ad9143d155ff4541405166"
   }
  }
 },
 "nbformat": 4,
 "nbformat_minor": 2
}
